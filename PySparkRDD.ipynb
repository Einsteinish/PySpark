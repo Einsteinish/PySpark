{
 "cells": [
  {
   "cell_type": "code",
   "execution_count": null,
   "metadata": {
    "collapsed": true
   },
   "outputs": [],
   "source": [
    "# /home2/bogotob1/public_html/Hadoop/BigData_hadoop_Apache_Spark_PySpark_RDD_Programming.php"
   ]
  },
  {
   "cell_type": "code",
   "execution_count": null,
   "metadata": {
    "collapsed": true
   },
   "outputs": [],
   "source": [
    "# wget d3kbcqa49mib13.cloudfront.net/spark-2.0.2-bin-hadoop2.6.tgz"
   ]
  },
  {
   "cell_type": "code",
   "execution_count": 1,
   "metadata": {
    "collapsed": true
   },
   "outputs": [],
   "source": [
    "lines = sc.textFile(\"/usr/local/spark-2.0.2-bin-hadoop2.6/README.md\")"
   ]
  },
  {
   "cell_type": "code",
   "execution_count": 2,
   "metadata": {
    "collapsed": false
   },
   "outputs": [
    {
     "data": {
      "text/plain": [
       "pyspark.rdd.RDD"
      ]
     },
     "execution_count": 2,
     "metadata": {},
     "output_type": "execute_result"
    }
   ],
   "source": [
    "type(lines)"
   ]
  },
  {
   "cell_type": "code",
   "execution_count": 3,
   "metadata": {
    "collapsed": true
   },
   "outputs": [],
   "source": [
    "spark_lines = lines.filter(lambda line: \"Spark\" in line)"
   ]
  },
  {
   "cell_type": "code",
   "execution_count": 4,
   "metadata": {
    "collapsed": false
   },
   "outputs": [
    {
     "data": {
      "text/plain": [
       "pyspark.rdd.PipelinedRDD"
      ]
     },
     "execution_count": 4,
     "metadata": {},
     "output_type": "execute_result"
    }
   ],
   "source": [
    "type(spark_lines)"
   ]
  },
  {
   "cell_type": "code",
   "execution_count": 5,
   "metadata": {
    "collapsed": false
   },
   "outputs": [
    {
     "data": {
      "text/plain": [
       "u'# Apache Spark'"
      ]
     },
     "execution_count": 5,
     "metadata": {},
     "output_type": "execute_result"
    }
   ],
   "source": [
    "spark_lines.first()"
   ]
  },
  {
   "cell_type": "code",
   "execution_count": 6,
   "metadata": {
    "collapsed": true
   },
   "outputs": [],
   "source": [
    "# using RDD persist"
   ]
  },
  {
   "cell_type": "code",
   "execution_count": 7,
   "metadata": {
    "collapsed": false
   },
   "outputs": [
    {
     "data": {
      "text/plain": [
       "<bound method PipelinedRDD.persist of PythonRDD[3] at RDD at PythonRDD.scala:48>"
      ]
     },
     "execution_count": 7,
     "metadata": {},
     "output_type": "execute_result"
    }
   ],
   "source": [
    "spark_lines.persist"
   ]
  },
  {
   "cell_type": "code",
   "execution_count": 8,
   "metadata": {
    "collapsed": false
   },
   "outputs": [
    {
     "data": {
      "text/plain": [
       "19"
      ]
     },
     "execution_count": 8,
     "metadata": {},
     "output_type": "execute_result"
    }
   ],
   "source": [
    "spark_lines.count()"
   ]
  },
  {
   "cell_type": "code",
   "execution_count": 9,
   "metadata": {
    "collapsed": false
   },
   "outputs": [
    {
     "data": {
      "text/plain": [
       "u'# Apache Spark'"
      ]
     },
     "execution_count": 9,
     "metadata": {},
     "output_type": "execute_result"
    }
   ],
   "source": [
    "spark_lines.first()"
   ]
  },
  {
   "cell_type": "code",
   "execution_count": 10,
   "metadata": {
    "collapsed": true
   },
   "outputs": [],
   "source": [
    "# Element-wise transformations - map & filter"
   ]
  },
  {
   "cell_type": "code",
   "execution_count": 11,
   "metadata": {
    "collapsed": true
   },
   "outputs": [],
   "source": [
    "n = sc.parallelize([1, 2, 3, 4])"
   ]
  },
  {
   "cell_type": "code",
   "execution_count": 22,
   "metadata": {
    "collapsed": false
   },
   "outputs": [
    {
     "name": "stdout",
     "output_type": "stream",
     "text": [
      "squared : [1, 4, 9, 16]\n",
      "filtered : [2, 3, 4]\n"
     ]
    }
   ],
   "source": [
    "squared = n.map(lambda x : x * x).collect()\n",
    "filtered = n.filter(lambda x : x != 1).collect()\n",
    "print 'squared : %s' %(squared)\n",
    "print 'filtered : %s' %(filtered)"
   ]
  },
  {
   "cell_type": "code",
   "execution_count": 26,
   "metadata": {
    "collapsed": false
   },
   "outputs": [
    {
     "name": "stdout",
     "output_type": "stream",
     "text": [
      "words : [['coffee', 'panda'], ['happy', 'panda'], ['happiest', 'panda', 'party']]\n"
     ]
    }
   ],
   "source": [
    "lines = sc.parallelize([\"coffee panda\", \"happy panda\", \"happiest panda party\" ])\n",
    "words = lines.map(lambda line: line.split(\" \"))\n",
    "words\n",
    "print 'words : %s' %(words.take(10))"
   ]
  },
  {
   "cell_type": "code",
   "execution_count": 27,
   "metadata": {
    "collapsed": false
   },
   "outputs": [
    {
     "name": "stdout",
     "output_type": "stream",
     "text": [
      "words_flat : ['coffee', 'panda', 'happy', 'panda', 'happiest', 'panda', 'party']\n"
     ]
    }
   ],
   "source": [
    "lines = sc.parallelize([\"coffee panda\", \"happy panda\", \"happiest panda party\" ])\n",
    "words_flat = lines.flatMap(lambda line: line.split(\" \"))\n",
    "words_flat\n",
    "print 'words_flat : %s' %(words_flat.take(10))"
   ]
  },
  {
   "cell_type": "code",
   "execution_count": 28,
   "metadata": {
    "collapsed": true
   },
   "outputs": [],
   "source": [
    "# Set operations"
   ]
  },
  {
   "cell_type": "code",
   "execution_count": 30,
   "metadata": {
    "collapsed": false
   },
   "outputs": [
    {
     "data": {
      "text/plain": [
       "ParallelCollectionRDD[50] at parallelize at PythonRDD.scala:475"
      ]
     },
     "execution_count": 30,
     "metadata": {},
     "output_type": "execute_result"
    }
   ],
   "source": [
    "n = sc.parallelize([1, 2, 3, 4])\n",
    "n"
   ]
  },
  {
   "cell_type": "code",
   "execution_count": 37,
   "metadata": {
    "collapsed": false
   },
   "outputs": [
    {
     "name": "stdout",
     "output_type": "stream",
     "text": [
      "rdd1_distinct : ['coffee', 'tea', 'panda', 'monkey']\n",
      "rdd1_union_rdd2 : ['coffee', 'coffee', 'panda', 'monkey', 'tea', 'coffee', 'monkey']\n",
      "rdd1_intersection_rdd2 : ['monkey', 'coffee']\n",
      "rdd1_subtract_rdd2 : ['tea', 'panda']\n"
     ]
    }
   ],
   "source": [
    "rdd1 = sc.parallelize([\"coffee\", \"coffee\", \"panda\", \"monkey\", \"tea\"])\n",
    "rdd2 = sc.parallelize([\"coffee\", \"monkey\", \"kitty\"])\n",
    "rdd1_distinct = rdd1.distinct()\n",
    "rdd1_union_rdd2 = rdd1.union(rdd2)\n",
    "rdd1_intersection_rdd2 = rdd1.intersection(rdd2)\n",
    "rdd1_subtract_rdd2 = rdd1.subtract(rdd2)\n",
    "\n",
    "print 'rdd1_distinct : %s' %(rdd1_distinct.take(7))\n",
    "print 'rdd1_union_rdd2 : %s' %(rdd1_union_rdd2.take(7))\n",
    "print 'rdd1_intersection_rdd2 : %s' %(rdd1_intersection_rdd2.take(7))\n",
    "print 'rdd1_subtract_rdd2 : %s' %(rdd1_subtract_rdd2.take(7))"
   ]
  },
  {
   "cell_type": "code",
   "execution_count": 38,
   "metadata": {
    "collapsed": true
   },
   "outputs": [],
   "source": [
    "# Cartesian transformation"
   ]
  },
  {
   "cell_type": "code",
   "execution_count": 39,
   "metadata": {
    "collapsed": false
   },
   "outputs": [
    {
     "name": "stdout",
     "output_type": "stream",
     "text": [
      "rdd1_cartesian_rdd2 : [('User(1)', \"Venue('Betabrand')\"), ('User(1)', \"Venue('Ash Tea House')\"), ('User(1)', \"Venue('Ritual')\"), ('User(2)', \"Venue('Betabrand')\"), ('User(3)', \"Venue('Betabrand')\"), ('User(2)', \"Venue('Ash Tea House')\"), ('User(2)', \"Venue('Ritual')\"), ('User(3)', \"Venue('Ash Tea House')\"), ('User(3)', \"Venue('Ritual')\")]\n"
     ]
    }
   ],
   "source": [
    "rdd1 = sc.parallelize([\"User(1)\", \"User(2)\", \"User(3)\"])\n",
    "rdd2 = sc.parallelize([\"Venue('Betabrand')\", \"Venue('Ash Tea House')\", \"Venue('Ritual')\"])\n",
    "rdd1_cartesian_rdd2 = rdd1.cartesian(rdd2)\n",
    "print 'rdd1_cartesian_rdd2 : %s' %(rdd1_cartesian_rdd2.take(9))"
   ]
  },
  {
   "cell_type": "code",
   "execution_count": null,
   "metadata": {
    "collapsed": true
   },
   "outputs": [],
   "source": []
  }
 ],
 "metadata": {
  "kernelspec": {
   "display_name": "Python 2",
   "language": "python",
   "name": "python2"
  },
  "language_info": {
   "codemirror_mode": {
    "name": "ipython",
    "version": 2
   },
   "file_extension": ".py",
   "mimetype": "text/x-python",
   "name": "python",
   "nbconvert_exporter": "python",
   "pygments_lexer": "ipython2",
   "version": "2.7.12"
  }
 },
 "nbformat": 4,
 "nbformat_minor": 1
}
